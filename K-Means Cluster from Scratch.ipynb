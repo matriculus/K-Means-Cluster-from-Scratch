{
 "cells": [
  {
   "cell_type": "markdown",
   "id": "87ef0055",
   "metadata": {},
   "source": [
    "# K-means Cluster"
   ]
  },
  {
   "cell_type": "code",
   "execution_count": 1,
   "id": "03877925",
   "metadata": {},
   "outputs": [],
   "source": [
    "import pandas as pd\n",
    "import numpy as np\n",
    "import matplotlib.pyplot as plt"
   ]
  },
  {
   "cell_type": "code",
   "execution_count": 2,
   "id": "b2477ae9",
   "metadata": {},
   "outputs": [
    {
     "data": {
      "text/html": [
       "<div>\n",
       "<style scoped>\n",
       "    .dataframe tbody tr th:only-of-type {\n",
       "        vertical-align: middle;\n",
       "    }\n",
       "\n",
       "    .dataframe tbody tr th {\n",
       "        vertical-align: top;\n",
       "    }\n",
       "\n",
       "    .dataframe thead th {\n",
       "        text-align: right;\n",
       "    }\n",
       "</style>\n",
       "<table border=\"1\" class=\"dataframe\">\n",
       "  <thead>\n",
       "    <tr style=\"text-align: right;\">\n",
       "      <th></th>\n",
       "      <th>CustomerID</th>\n",
       "      <th>Age</th>\n",
       "      <th>Annual Income (k$)</th>\n",
       "      <th>Spending Score (1-100)</th>\n",
       "    </tr>\n",
       "  </thead>\n",
       "  <tbody>\n",
       "    <tr>\n",
       "      <th>count</th>\n",
       "      <td>200.000000</td>\n",
       "      <td>200.000000</td>\n",
       "      <td>200.000000</td>\n",
       "      <td>200.000000</td>\n",
       "    </tr>\n",
       "    <tr>\n",
       "      <th>mean</th>\n",
       "      <td>100.500000</td>\n",
       "      <td>38.850000</td>\n",
       "      <td>60.560000</td>\n",
       "      <td>50.200000</td>\n",
       "    </tr>\n",
       "    <tr>\n",
       "      <th>std</th>\n",
       "      <td>57.879185</td>\n",
       "      <td>13.969007</td>\n",
       "      <td>26.264721</td>\n",
       "      <td>25.823522</td>\n",
       "    </tr>\n",
       "    <tr>\n",
       "      <th>min</th>\n",
       "      <td>1.000000</td>\n",
       "      <td>18.000000</td>\n",
       "      <td>15.000000</td>\n",
       "      <td>1.000000</td>\n",
       "    </tr>\n",
       "    <tr>\n",
       "      <th>25%</th>\n",
       "      <td>50.750000</td>\n",
       "      <td>28.750000</td>\n",
       "      <td>41.500000</td>\n",
       "      <td>34.750000</td>\n",
       "    </tr>\n",
       "    <tr>\n",
       "      <th>50%</th>\n",
       "      <td>100.500000</td>\n",
       "      <td>36.000000</td>\n",
       "      <td>61.500000</td>\n",
       "      <td>50.000000</td>\n",
       "    </tr>\n",
       "    <tr>\n",
       "      <th>75%</th>\n",
       "      <td>150.250000</td>\n",
       "      <td>49.000000</td>\n",
       "      <td>78.000000</td>\n",
       "      <td>73.000000</td>\n",
       "    </tr>\n",
       "    <tr>\n",
       "      <th>max</th>\n",
       "      <td>200.000000</td>\n",
       "      <td>70.000000</td>\n",
       "      <td>137.000000</td>\n",
       "      <td>99.000000</td>\n",
       "    </tr>\n",
       "  </tbody>\n",
       "</table>\n",
       "</div>"
      ],
      "text/plain": [
       "       CustomerID         Age  Annual Income (k$)  Spending Score (1-100)\n",
       "count  200.000000  200.000000          200.000000              200.000000\n",
       "mean   100.500000   38.850000           60.560000               50.200000\n",
       "std     57.879185   13.969007           26.264721               25.823522\n",
       "min      1.000000   18.000000           15.000000                1.000000\n",
       "25%     50.750000   28.750000           41.500000               34.750000\n",
       "50%    100.500000   36.000000           61.500000               50.000000\n",
       "75%    150.250000   49.000000           78.000000               73.000000\n",
       "max    200.000000   70.000000          137.000000               99.000000"
      ]
     },
     "execution_count": 2,
     "metadata": {},
     "output_type": "execute_result"
    }
   ],
   "source": [
    "dataset = pd.read_csv('Mall_Customers.csv')\n",
    "dataset.describe()"
   ]
  },
  {
   "cell_type": "code",
   "execution_count": 3,
   "id": "19e89c2b",
   "metadata": {},
   "outputs": [],
   "source": [
    "X = dataset.iloc[:, [3, 4]].values"
   ]
  },
  {
   "cell_type": "code",
   "execution_count": 4,
   "id": "b747bf12",
   "metadata": {},
   "outputs": [],
   "source": [
    "m = X.shape[0] # number of training examples\n",
    "n = X.shape[1] # number of features. n = 2\n",
    "\n",
    "n_iter = 100"
   ]
  },
  {
   "cell_type": "code",
   "execution_count": 5,
   "id": "77728cde",
   "metadata": {},
   "outputs": [],
   "source": [
    "K = 5 # number of clusters considered to be 5\n",
    "Centroids = np.array([]).reshape(n, 0)"
   ]
  },
  {
   "cell_type": "code",
   "execution_count": 6,
   "id": "5b9efdfd",
   "metadata": {},
   "outputs": [
    {
     "name": "stdout",
     "output_type": "stream",
     "text": [
      "[[42 52]\n",
      " [38 35]\n",
      " [73 73]\n",
      " [76 87]\n",
      " [75  5]]\n"
     ]
    }
   ],
   "source": [
    "idx = np.random.randint(0, m-1, size=K)\n",
    "Centroids = X[idx, :]\n",
    "print(Centroids)"
   ]
  },
  {
   "cell_type": "code",
   "execution_count": 7,
   "id": "4cf6373e",
   "metadata": {},
   "outputs": [],
   "source": [
    "for _ in range(n_iter):\n",
    "    distance = np.array([]).reshape(m, 0)\n",
    "    for k in range(K):\n",
    "        tempDist = np.sum((X-Centroids[k, :])**2, axis=1)\n",
    "        distance = np.c_[distance, tempDist]\n",
    "\n",
    "    C = np.argmin(distance, axis=1)+1\n",
    "\n",
    "    Y = {}\n",
    "    for k in range(K):\n",
    "        Y[k+1] = np.array([]).reshape(n, 0)\n",
    "    for i in range(m):\n",
    "        Y[C[i]] = np.c_[Y[C[i]], X[i]]\n",
    "\n",
    "        # Regrouping to nearby centroids\n",
    "    for k in range(K):\n",
    "        Y[k+1] = Y[k+1].T\n",
    "\n",
    "    for k in range(K):\n",
    "        Centroids[k,:] = np.mean(Y[k+1], axis=0)\n",
    "    Output = Y"
   ]
  },
  {
   "cell_type": "code",
   "execution_count": 8,
   "id": "e356e8ac",
   "metadata": {},
   "outputs": [
    {
     "data": {
      "image/png": "[encoded data removed]",
      "text/plain": [
       "<Figure size 432x288 with 1 Axes>"
      ]
     },
     "metadata": {
      "needs_background": "light"
     },
     "output_type": "display_data"
    }
   ],
   "source": [
    "plt.scatter(X[:,0], X[:,1], c='black',label='unclustered data')\n",
    "plt.xlabel('Income')\n",
    "plt.ylabel('# transactions')\n",
    "plt.legend()\n",
    "plt.title('Plot of data points')\n",
    "plt.show()"
   ]
  },
  {
   "cell_type": "code",
   "execution_count": 9,
   "id": "88d59f51",
   "metadata": {
    "scrolled": true
   },
   "outputs": [
    {
     "data": {
      "image/png": "[encoded data removed]",
      "text/plain": [
       "<Figure size 432x288 with 1 Axes>"
      ]
     },
     "metadata": {
      "needs_background": "light"
     },
     "output_type": "display_data"
    }
   ],
   "source": [
    "color = ['red', 'blue', 'green', 'cyan', 'magenta']\n",
    "labels = ['cluster' + str(i+1) for i in range(K)]\n",
    "for k in range(K):\n",
    "    plt.scatter(Output[k+1][:,0], Output[k+1][:,1], c=color[k], label=labels[k])\n",
    "plt.scatter(Centroids[:,0], Centroids[:,1],s=30, c='yellow',label='Centroids')\n",
    "plt.xlabel('Income')\n",
    "plt.ylabel('# transactions')\n",
    "plt.legend()\n",
    "plt.show()"
   ]
  },
  {
   "cell_type": "code",
   "execution_count": 10,
   "id": "b8e765bd",
   "metadata": {},
   "outputs": [],
   "source": [
    "def Kmeans(X, K, n_iter):\n",
    "    Centroids = np.array([]).reshape(n, 0)\n",
    "    idx = np.random.randint(0, m-1, size=K)\n",
    "    Centroids = X[idx, :]\n",
    "    for _ in range(n_iter):\n",
    "        distance = np.array([]).reshape(m, 0)\n",
    "        for k in range(K):\n",
    "            tempDist = np.sum((X-Centroids[k, :])**2, axis=1)\n",
    "            distance = np.c_[distance, tempDist]\n",
    "\n",
    "        C = np.argmin(distance, axis=1)+1\n",
    "\n",
    "        Y = {}\n",
    "        for k in range(K):\n",
    "            Y[k+1] = np.array([]).reshape(n, 0)\n",
    "        for i in range(m):\n",
    "            Y[C[i]] = np.c_[Y[C[i]], X[i]]\n",
    "\n",
    "            # Regrouping to nearby centroids\n",
    "        for k in range(K):\n",
    "            Y[k+1] = Y[k+1].T\n",
    "\n",
    "        for k in range(K):\n",
    "            Centroids[k,:] = np.mean(Y[k+1], axis=0)\n",
    "        Output = Y\n",
    "    return Output, Centroids"
   ]
  },
  {
   "cell_type": "code",
   "execution_count": 11,
   "id": "68d1b401",
   "metadata": {},
   "outputs": [],
   "source": [
    "WCSS_array = []\n",
    "for K in range(1,11):\n",
    "    Output, Centroids = Kmeans(X,K,n_iter)\n",
    "    wcss = 0\n",
    "    for k in range(K):\n",
    "        wcss += np.sum((Output[k+1] - Centroids[k,:])**2)\n",
    "    WCSS_array.append(wcss)"
   ]
  },
  {
   "cell_type": "code",
   "execution_count": 12,
   "id": "5c3a77cb",
   "metadata": {},
   "outputs": [
    {
     "data": {
      "image/png": "[encoded data removed]",
      "text/plain": [
       "<Figure size 432x288 with 1 Axes>"
      ]
     },
     "metadata": {
      "needs_background": "light"
     },
     "output_type": "display_data"
    }
   ],
   "source": [
    "K_array = np.arange(1,11,1)\n",
    "plt.plot(K_array, WCSS_array)\n",
    "plt.xlabel('Number of clusters')\n",
    "plt.ylabel('WCSS value')\n",
    "plt.title('Elbow method for optimum # clusters')\n",
    "plt.show()"
   ]
  },
  {
   "cell_type": "markdown",
   "id": "c4804c18",
   "metadata": {},
   "source": [
    "Optimum number of clusters is 5"
   ]
  }
 ],
 "metadata": {
  "kernelspec": {
   "display_name": "Python 3",
   "language": "python",
   "name": "python3"
  },
  "language_info": {
   "codemirror_mode": {
    "name": "ipython",
    "version": 3
   },
   "file_extension": ".py",
   "mimetype": "text/x-python",
   "name": "python",
   "nbconvert_exporter": "python",
   "pygments_lexer": "ipython3",
   "version": "3.8.10"
  }
 },
 "nbformat": 4,
 "nbformat_minor": 5
}
